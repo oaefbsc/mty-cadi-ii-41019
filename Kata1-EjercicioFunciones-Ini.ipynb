{
 "cells": [
  {
   "cell_type": "markdown",
   "metadata": {},
   "source": [
    "# Kata1. Ejercicio con funciones"
   ]
  },
  {
   "cell_type": "markdown",
   "metadata": {},
   "source": [
    "Descripción.\n",
    "\n",
    "* Vamos a crear un módulo con funciones.\n",
    "* Utilizaremos las funciones implementadas a manera de bibilioteca\n",
    "* Haremos la llamada de las funciones desde cualquier otro notebook usando `import`\n",
    "\n"
   ]
  },
  {
   "cell_type": "markdown",
   "metadata": {},
   "source": [
    "## Distancia entre dos puntos"
   ]
  },
  {
   "cell_type": "markdown",
   "metadata": {},
   "source": [
    "Dados dos puntos con coordenadas $A(x_1,y_1)$ y  $B(x_2,y_2)$, la distancia $\\overline{AB}$ está dada por:\n",
    "$$\\overline{AB}=\\sqrt{(x_2-x_1)^2 + (y_2-y_1)^2}$$"
   ]
  },
  {
   "cell_type": "markdown",
   "metadata": {},
   "source": [
    "## Pendiente de la recta que pasa entre dos puntos"
   ]
  },
  {
   "cell_type": "markdown",
   "metadata": {},
   "source": [
    "Dados dos puntos con coordenadas $A(x_1,y_1)$ y  $B(x_2,y_2)$, la pendiente de la recta que pasa entre esos dos puntos está dada por:\n",
    "$$ m = \\frac{y_2 - y_1}{x_2 - x_1} $$"
   ]
  },
  {
   "cell_type": "markdown",
   "metadata": {},
   "source": [
    "### Paso1."
   ]
  },
  {
   "cell_type": "markdown",
   "metadata": {},
   "source": [
    "Implementar la función `distancia()` entre dos puntos.\n",
    "* Los argumentos de la función serán las coordenadas de los dos puntos: $x_1, y_1, x_2, y_2$.\n",
    "* La función puede recibir las coordenadas del primer punto y omitir las del segundo que sería considerado como el punto $(0,0)$.\n",
    "* La función devolverá la distancia $d$ entre los dos puntos."
   ]
  },
  {
   "cell_type": "markdown",
   "metadata": {},
   "source": [
    "### Paso2."
   ]
  },
  {
   "cell_type": "markdown",
   "metadata": {},
   "source": [
    "Implementar la función de la `pendiente()` entre dos puntos.\n",
    "* Los argumentos de la función serán las coordenadas de los dos puntos: $x_1, y_1, x_2, y_2$.\n",
    "* La función puede recibir las coordenaas del primer punto y omitir las del segundo que sería considerado como $(0,0)$. \n",
    "* Asumiremos, por ahora, que los puntos no tienen la misma abscisa.\n",
    "* La función devolverá la pendiente $m$ de la recta que pase por los dos puntos."
   ]
  },
  {
   "cell_type": "markdown",
   "metadata": {},
   "source": [
    "### Paso 3\n",
    "\n",
    "* Las funciones serán implementadas siguiendo las buenas prácticas de programación para las funciones, esto es, deberán seguir el diseño de contrato de tipo, documentación de la función y ejemplos.\n",
    "* Diseña, ejecuta, prueba y refactoriza tu función en un notebook.\n",
    "* Una vez que tus funciones se ejecuten correctamente cópialas y pégalas el un archivo que nombrarás `funccadi.py`, utilizando tu editor de texto favorito.\n",
    "\n"
   ]
  },
  {
   "cell_type": "markdown",
   "metadata": {},
   "source": [
    "### Paso 4\n",
    "\n",
    "* Una vez que tengas el archivo del paso 3 harás la llamada a las funciones `distancia` y `pendiente` por medio de la importación del módulo `funcadi.py` desde un notebook nuevo.\n",
    "* Utiliza la función help para obtener ayuda sobre las funciones implementadas\n",
    "* Valida la ejecución de la función con los valores de prueba de la documentación de la función\n",
    "* Prueba la función con nuevos valores."
   ]
  },
  {
   "cell_type": "markdown",
   "metadata": {},
   "source": [
    "### Hints.\n",
    "* Utiliza valores por default en la llamanda a las funciones\n",
    "* Utiliza correctamente el espacio de nombres al hacer la llamada a `distancia` y `pendiente` contenidas en el módulo `funccadi.py`"
   ]
  },
  {
   "cell_type": "code",
   "execution_count": 18,
   "metadata": {},
   "outputs": [
    {
     "data": {
      "text/plain": [
       "6.708203932499369"
      ]
     },
     "execution_count": 18,
     "metadata": {},
     "output_type": "execute_result"
    }
   ],
   "source": [
    "import math\n",
    "math.sqrt((5-(-3))**2 + (1-6)**2)\n",
    "math.sqrt((0-(-3))**2 + (0-6)**2)"
   ]
  },
  {
   "cell_type": "code",
   "execution_count": 14,
   "metadata": {},
   "outputs": [
    {
     "data": {
      "text/plain": [
       "9.433981132056603"
      ]
     },
     "execution_count": 14,
     "metadata": {},
     "output_type": "execute_result"
    }
   ],
   "source": [
    "distancia(-3,6,5,1)"
   ]
  },
  {
   "cell_type": "code",
   "execution_count": 15,
   "metadata": {},
   "outputs": [
    {
     "name": "stdout",
     "output_type": "stream",
     "text": [
      "Help on function distancia in module __main__:\n",
      "\n",
      "distancia(x1, y1, x2, y2)\n",
      "    (num, num, num, num) -> num\n",
      "    \n",
      "    Esta función devuelve la distancia entre dos puntos\n",
      "    con coordenadas (x1,y1) y (x2,y2). Se puede omitir el \n",
      "    segundo punto el cual será considerado como (0,0)\n",
      "    \n",
      "    >>> distancia(2,3,5,1)\n",
      "    >>>\n",
      "\n"
     ]
    }
   ],
   "source": [
    "help(distancia)"
   ]
  },
  {
   "cell_type": "code",
   "execution_count": 19,
   "metadata": {},
   "outputs": [
    {
     "data": {
      "text/plain": [
       "6.708203932499369"
      ]
     },
     "execution_count": 19,
     "metadata": {},
     "output_type": "execute_result"
    }
   ],
   "source": [
    "distancia(-3,6)"
   ]
  },
  {
   "cell_type": "code",
   "execution_count": null,
   "metadata": {},
   "outputs": [],
   "source": []
  }
 ],
 "metadata": {
  "kernelspec": {
   "display_name": "Python 3",
   "language": "python",
   "name": "python3"
  },
  "language_info": {
   "codemirror_mode": {
    "name": "ipython",
    "version": 3
   },
   "file_extension": ".py",
   "mimetype": "text/x-python",
   "name": "python",
   "nbconvert_exporter": "python",
   "pygments_lexer": "ipython3",
   "version": "3.6.5"
  }
 },
 "nbformat": 4,
 "nbformat_minor": 2
}
