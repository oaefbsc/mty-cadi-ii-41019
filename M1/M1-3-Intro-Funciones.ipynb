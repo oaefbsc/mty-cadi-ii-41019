{
 "cells": [
  {
   "cell_type": "markdown",
   "metadata": {},
   "source": [
    "# Introducción a Python"
   ]
  },
  {
   "cell_type": "markdown",
   "metadata": {},
   "source": [
    "## Funciones\n",
    "En Python las funciones son objetos, objetos de primera clase. En términos muy sencillos, una función es un segmento de código que realiza una acción y devuelve un valor producto de esta acción.\n",
    "El intérprete de python proporciona funciones predefinidas, funciones no predefinidas y permite que el usurio defina sus propias funciones."
   ]
  },
  {
   "cell_type": "markdown",
   "metadata": {},
   "source": [
    "### Funciones no predefinidas (non-built-in functions)"
   ]
  },
  {
   "cell_type": "markdown",
   "metadata": {},
   "source": [
    "La implementación básica de Python proporciona el módulo (librería) `math` el cual provee el acceso a distintas funciones matemáticas implementadas en C stándar.\n",
    "Para acceder a las funciones contenidas en un módulo, es necesario importar dicho módulo por medio de `import`. Utilizando el operador punto `.` se hace referencia a la función específica.\n",
    "\n",
    "La funciones contenidas en `math` solo pueden ser usadas para números reales; en el caso complejo será necesario importar `cmath`."
   ]
  },
  {
   "cell_type": "code",
   "execution_count": 2,
   "metadata": {},
   "outputs": [],
   "source": [
    "# math\n",
    "import math"
   ]
  },
  {
   "cell_type": "code",
   "execution_count": null,
   "metadata": {},
   "outputs": [],
   "source": [
    "dir(math)"
   ]
  },
  {
   "cell_type": "markdown",
   "metadata": {},
   "source": [
    "La palabra reservada `import` habilita el módulo especificado y con la función `dir()` se despliega el conjunto de funciones contenidas en él."
   ]
  },
  {
   "cell_type": "code",
   "execution_count": null,
   "metadata": {},
   "outputs": [],
   "source": [
    "help(math.sqrt)"
   ]
  },
  {
   "cell_type": "markdown",
   "metadata": {},
   "source": [
    "El uso de una función predefinida se realiza por medio del operador `.`. Así, las función `cos` contenida en el módulo `math` se invoca con la sintaxis `math.cos()`"
   ]
  },
  {
   "cell_type": "code",
   "execution_count": 5,
   "metadata": {},
   "outputs": [
    {
     "data": {
      "text/plain": [
       "0.5253219888177297"
      ]
     },
     "execution_count": 5,
     "metadata": {},
     "output_type": "execute_result"
    }
   ],
   "source": [
    "math.cos(45)"
   ]
  },
  {
   "cell_type": "code",
   "execution_count": 7,
   "metadata": {},
   "outputs": [
    {
     "data": {
      "text/plain": [
       "builtin_function_or_method"
      ]
     },
     "execution_count": 7,
     "metadata": {},
     "output_type": "execute_result"
    }
   ],
   "source": [
    "type(math.cos)"
   ]
  },
  {
   "cell_type": "code",
   "execution_count": 6,
   "metadata": {},
   "outputs": [
    {
     "data": {
      "text/plain": [
       "module"
      ]
     },
     "execution_count": 6,
     "metadata": {},
     "output_type": "execute_result"
    }
   ],
   "source": [
    "type(math)"
   ]
  },
  {
   "cell_type": "code",
   "execution_count": null,
   "metadata": {},
   "outputs": [],
   "source": [
    "math.sqrt(25)"
   ]
  },
  {
   "cell_type": "code",
   "execution_count": null,
   "metadata": {},
   "outputs": [],
   "source": [
    "math.log2(16)"
   ]
  },
  {
   "cell_type": "code",
   "execution_count": null,
   "metadata": {},
   "outputs": [],
   "source": [
    "# math.f + tab\n",
    "math.factorial(5)"
   ]
  },
  {
   "cell_type": "markdown",
   "metadata": {},
   "source": [
    "### Funciones pythónicas"
   ]
  },
  {
   "cell_type": "markdown",
   "metadata": {},
   "source": [
    "El intérprete de python permite al usario crear sus propias funciones. Para esto se requiere definir la función e invocarla posteriormente.\n",
    "* Para definir la función se requiere un *nombre*, una lista de *parámetros*, un conjunto de instrucciones a ejecutar, y la devolución (casi siempre) de un valor.\n",
    "* Para ejectuar la función, ésta debe estar definida previamente, y ser *llamada* o *invocada* especificando (la mayoría de las veces) la lista de valores (argumentos) que serán asignadas a los parámetros con los que fue definida la función."
   ]
  },
  {
   "cell_type": "code",
   "execution_count": 9,
   "metadata": {},
   "outputs": [],
   "source": [
    "# función trivial\n",
    "# foo pass\n",
    "def nada():\n",
    "    pass"
   ]
  },
  {
   "cell_type": "markdown",
   "metadata": {},
   "source": [
    "La palabra reservada `pass` es una operación *nula* que no causa ningún efecto en su ejecución."
   ]
  },
  {
   "cell_type": "code",
   "execution_count": 15,
   "metadata": {},
   "outputs": [
    {
     "data": {
      "text/plain": [
       "function"
      ]
     },
     "execution_count": 15,
     "metadata": {},
     "output_type": "execute_result"
    }
   ],
   "source": [
    "type(nada)"
   ]
  },
  {
   "cell_type": "code",
   "execution_count": 20,
   "metadata": {},
   "outputs": [],
   "source": [
    "# saludo\n",
    "def saludo():\n",
    "    print(\"¡hola!\")"
   ]
  },
  {
   "cell_type": "code",
   "execution_count": 21,
   "metadata": {},
   "outputs": [
    {
     "name": "stdout",
     "output_type": "stream",
     "text": [
      "¡hola!\n"
     ]
    }
   ],
   "source": [
    "saludo()"
   ]
  },
  {
   "cell_type": "markdown",
   "metadata": {},
   "source": [
    "El interprete de Python requiere palabra reservada `def` para definir la función, entre paréntesis `( )` los argumentos con los que opera, seguido de `:`.\n",
    "El cuerpo de la función deberá respetar la indentación de cuatro espacios. El valor que devuelve la función va precedido de la palabra reservada `return`. "
   ]
  },
  {
   "cell_type": "code",
   "execution_count": 23,
   "metadata": {},
   "outputs": [],
   "source": [
    "# saludo nuevo\n",
    "def saludonuevo():\n",
    "    return \"!!hello!!\""
   ]
  },
  {
   "cell_type": "code",
   "execution_count": 24,
   "metadata": {},
   "outputs": [],
   "source": [
    "s = saludonuevo()"
   ]
  },
  {
   "cell_type": "code",
   "execution_count": 25,
   "metadata": {},
   "outputs": [
    {
     "name": "stdout",
     "output_type": "stream",
     "text": [
      "!!hello!!\n"
     ]
    }
   ],
   "source": [
    "print(s)"
   ]
  },
  {
   "cell_type": "code",
   "execution_count": 26,
   "metadata": {},
   "outputs": [
    {
     "name": "stdout",
     "output_type": "stream",
     "text": [
      "¡hola!\n"
     ]
    }
   ],
   "source": [
    "s = saludo()"
   ]
  },
  {
   "cell_type": "code",
   "execution_count": 27,
   "metadata": {},
   "outputs": [
    {
     "name": "stdout",
     "output_type": "stream",
     "text": [
      "None\n"
     ]
    }
   ],
   "source": [
    "print(s)"
   ]
  },
  {
   "cell_type": "markdown",
   "metadata": {},
   "source": [
    "Una función que finaliza sin ejecutar una instrucción `return` devuelve el valor `None`.\n"
   ]
  },
  {
   "cell_type": "code",
   "execution_count": null,
   "metadata": {},
   "outputs": [],
   "source": [
    "# cuadrado\n",
    "def cuadrado(x):\n",
    "    return x ** 2"
   ]
  },
  {
   "cell_type": "code",
   "execution_count": null,
   "metadata": {},
   "outputs": [],
   "source": [
    "cuadrado(3)"
   ]
  },
  {
   "cell_type": "code",
   "execution_count": null,
   "metadata": {},
   "outputs": [],
   "source": [
    "xcuadrado = cuadrado(5)\n",
    "xcuadrado"
   ]
  },
  {
   "cell_type": "code",
   "execution_count": null,
   "metadata": {},
   "outputs": [],
   "source": [
    "# area\n",
    "def area(base, altura):\n",
    "    return base * altura / 2\n",
    "area(3, 4)"
   ]
  },
  {
   "cell_type": "code",
   "execution_count": null,
   "metadata": {},
   "outputs": [],
   "source": [
    "area(10, 7.45)"
   ]
  },
  {
   "cell_type": "code",
   "execution_count": 28,
   "metadata": {},
   "outputs": [
    {
     "data": {
      "text/plain": [
       "12"
      ]
     },
     "execution_count": 28,
     "metadata": {},
     "output_type": "execute_result"
    }
   ],
   "source": [
    "# perímetro\n",
    "def perimetro(lado1, lado2, lado3):\n",
    "    return lado1 + lado2 + lado3\n",
    "\n",
    "\n",
    "perimetro(3, 4, 5)"
   ]
  },
  {
   "cell_type": "markdown",
   "metadata": {},
   "source": [
    "Un *parámetro* es un valor que la función espera recibir cuando sea llamada, con los parámetros se llevan a cabo acciones dentro de la fución. Una función espera los valores para cada parámetro, los cuales irán separados por coma.\n",
    "Los parámetros son utilizados como *variables locales* dentro de la función."
   ]
  },
  {
   "cell_type": "markdown",
   "metadata": {},
   "source": [
    "El intérprete de python permite asignar *valores por defecto* a los parámetros de las funciones, esto es que la función podrá ser llamada con menos valores que el número de parámetros en su definición."
   ]
  },
  {
   "cell_type": "code",
   "execution_count": 30,
   "metadata": {},
   "outputs": [],
   "source": [
    "# saludo_param\n",
    "def saludo_param(nombre, mensaje='hola!!'): \n",
    "    print (nombre, mensaje) "
   ]
  },
  {
   "cell_type": "code",
   "execution_count": 31,
   "metadata": {},
   "outputs": [
    {
     "name": "stdout",
     "output_type": "stream",
     "text": [
      "oscar ¿qué tal?\n"
     ]
    }
   ],
   "source": [
    "saludo_param('oscar', '¿qué tal?')"
   ]
  },
  {
   "cell_type": "code",
   "execution_count": 32,
   "metadata": {},
   "outputs": [
    {
     "name": "stdout",
     "output_type": "stream",
     "text": [
      "oscar hola!!\n"
     ]
    }
   ],
   "source": [
    "saludo_param('oscar')"
   ]
  },
  {
   "cell_type": "code",
   "execution_count": null,
   "metadata": {},
   "outputs": [],
   "source": [
    "# error\n",
    "saludo_param()"
   ]
  },
  {
   "cell_type": "code",
   "execution_count": 34,
   "metadata": {},
   "outputs": [],
   "source": [
    "# saludo_dosparam\n",
    "def saludo_dosparam(nombre='Oscar', mensaje='hola!!'): \n",
    "    print (nombre, mensaje) "
   ]
  },
  {
   "cell_type": "code",
   "execution_count": 35,
   "metadata": {},
   "outputs": [
    {
     "name": "stdout",
     "output_type": "stream",
     "text": [
      "Ximena muy buenos días\n"
     ]
    }
   ],
   "source": [
    "saludo_dosparam('Ximena', 'muy buenos días')"
   ]
  },
  {
   "cell_type": "code",
   "execution_count": 36,
   "metadata": {},
   "outputs": [
    {
     "name": "stdout",
     "output_type": "stream",
     "text": [
      "Oscar hola!!\n"
     ]
    }
   ],
   "source": [
    "saludo_dosparam()"
   ]
  },
  {
   "cell_type": "markdown",
   "metadata": {},
   "source": [
    "### Diseño de funciones -buenas prácticas-"
   ]
  },
  {
   "cell_type": "markdown",
   "metadata": {},
   "source": [
    "Para cualquier función predefinida se puede obtener la descripción y ayuda sobre su definición y funcionamiento usuando `help()`. La documentación desplegada describe las propiedades de la función, los tipos de los parámetros con los que está definida y el tipo de valor de retorno."
   ]
  },
  {
   "cell_type": "code",
   "execution_count": null,
   "metadata": {},
   "outputs": [],
   "source": [
    "# Ayuda de las funciones\n",
    "help(abs)"
   ]
  },
  {
   "cell_type": "markdown",
   "metadata": {},
   "source": [
    "Los desarrolladres de Python sugieren ciertos elementos que debe contener la definición de una función. Con estas *convenciones* se procura tener un manejo sencillo y transparente de la función, así como facilitar el proceso de corrección de errores."
   ]
  },
  {
   "cell_type": "code",
   "execution_count": 1,
   "metadata": {},
   "outputs": [],
   "source": [
    "def area(base, altura):             # Header\n",
    "    '''(numero, numero) -> numero   # Type contract\n",
    "    \n",
    "    Regresa el area de un triangulo\n",
    "    con dimensiones base y altura.  # Description \n",
    "    \n",
    "    >>> area(10,5)                  # Examples \n",
    "    25.0\n",
    "    >>> area(2.5, 3)\n",
    "    3.75\n",
    "    '''\n",
    "    return base * altura / 2        # Body"
   ]
  },
  {
   "cell_type": "code",
   "execution_count": 2,
   "metadata": {},
   "outputs": [
    {
     "name": "stdout",
     "output_type": "stream",
     "text": [
      "Help on function area in module __main__:\n",
      "\n",
      "area(base, altura)\n",
      "    (numero, numero) -> numero   # Type contract\n",
      "    \n",
      "    Regresa el area de un triangulo\n",
      "    con dimensiones base y altura.  # Description \n",
      "    \n",
      "    >>> area(10,5)                  # Examples \n",
      "    25.0\n",
      "    >>> area(2.5, 3)\n",
      "    3.75\n",
      "\n"
     ]
    }
   ],
   "source": [
    "help(area)"
   ]
  },
  {
   "cell_type": "markdown",
   "metadata": {},
   "source": [
    "La inclusión de ejemplos de uso y funcionamiento de la función son de gran utilidad para hacer el proceso de evaluación (*testing*) de dicha función."
   ]
  },
  {
   "cell_type": "code",
   "execution_count": null,
   "metadata": {},
   "outputs": [],
   "source": [
    "# func convert_to_celsius\n",
    "def convierte_a_celsius(fahrenheit):\n",
    "    '''(numero)-> float\n",
    "    \n",
    "    Devuelve el numero de grados Celsius equivalente\n",
    "    a los grados fahrenheit\n",
    "    \n",
    "    >>> convierte_a_celsius(32)\n",
    "    0.0\n",
    "    >>> convierte_a_celsius(212)\n",
    "    100.0\n",
    "    '''\n",
    "    return (fahrenheit - 32) * 5 / 9\n",
    "    "
   ]
  },
  {
   "cell_type": "code",
   "execution_count": null,
   "metadata": {},
   "outputs": [],
   "source": [
    "convierte_a_celsius(32)"
   ]
  },
  {
   "cell_type": "code",
   "execution_count": null,
   "metadata": {},
   "outputs": [],
   "source": [
    "conviert_a_celsius(212)"
   ]
  },
  {
   "cell_type": "code",
   "execution_count": null,
   "metadata": {},
   "outputs": [],
   "source": [
    "# help\n",
    "help(convierte_a_celsius)"
   ]
  },
  {
   "cell_type": "markdown",
   "metadata": {},
   "source": [
    "La invocación a una función puede hacerse por medio de argumentos cuyos valores son resultado de hacer una llamada a cualquier otra función."
   ]
  },
  {
   "cell_type": "code",
   "execution_count": null,
   "metadata": {},
   "outputs": [],
   "source": [
    "max(area(3.8, 7.0), area(3.5, 6.8))"
   ]
  },
  {
   "cell_type": "markdown",
   "metadata": {},
   "source": [
    "Python permite crear funciones de usuario al estilo \"non-build-in fuctions\" las cuales están definidas en cualquier otro archivo diferente al local. Estas funciones de usuario son accesibles al importar el módulo (archivo) en el que están definidas, así la función `f()` definida en el archivo `myfile.py` puede ser invocada al importar el módulo `myfile`."
   ]
  },
  {
   "cell_type": "markdown",
   "metadata": {},
   "source": [
    "### Ejercicio:\n",
    "Define en el módulo `media.py` las funciones `media_tres` y `media_cinco`. Ambas funciones calcularán el promedio de tres y cinco valores respectivamente. Si no se proporciona uno o más valores, la función debe considear el valor de los datos faltantes como 0."
   ]
  },
  {
   "cell_type": "code",
   "execution_count": 39,
   "metadata": {},
   "outputs": [],
   "source": [
    "def media_tres(a=0, b=0, c=0):\n",
    "    return (a + b + c)/3"
   ]
  },
  {
   "cell_type": "code",
   "execution_count": 40,
   "metadata": {},
   "outputs": [],
   "source": [
    "def media_cinco(a=0, b=0, c=0, d=0, e=0):\n",
    "    return (a + b + c + d + e)/5"
   ]
  },
  {
   "cell_type": "code",
   "execution_count": 43,
   "metadata": {},
   "outputs": [
    {
     "data": {
      "text/plain": [
       "3.0"
      ]
     },
     "execution_count": 43,
     "metadata": {},
     "output_type": "execute_result"
    }
   ],
   "source": [
    "media_tres(3,2,4)"
   ]
  },
  {
   "cell_type": "code",
   "execution_count": null,
   "metadata": {},
   "outputs": [],
   "source": []
  }
 ],
 "metadata": {
  "kernelspec": {
   "display_name": "Python 3",
   "language": "python",
   "name": "python3"
  },
  "language_info": {
   "codemirror_mode": {
    "name": "ipython",
    "version": 3
   },
   "file_extension": ".py",
   "mimetype": "text/x-python",
   "name": "python",
   "nbconvert_exporter": "python",
   "pygments_lexer": "ipython3",
   "version": "3.6.5"
  }
 },
 "nbformat": 4,
 "nbformat_minor": 1
}
