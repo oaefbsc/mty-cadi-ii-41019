{
 "cells": [
  {
   "cell_type": "markdown",
   "metadata": {},
   "source": [
    "# Introducción a Python"
   ]
  },
  {
   "cell_type": "markdown",
   "metadata": {},
   "source": [
    "## Control de Flujo"
   ]
  },
  {
   "cell_type": "markdown",
   "metadata": {},
   "source": [
    "Una estructura o sentencia de control, es un bloque de código que permite ejecutar instrucciones de manera controlada. En la mayoría de lenguajes se manejan dos estructuras de control:\n",
    "\n",
    "* Estructuras de control condicionales\n",
    "* Estructuras de control repetitivas\n"
   ]
  },
  {
   "cell_type": "markdown",
   "metadata": {},
   "source": [
    "### IF-ELSE"
   ]
  },
  {
   "cell_type": "markdown",
   "metadata": {},
   "source": [
    "La estructura de control condicional implementada en la mayoría de los lenguajes el `if-else`, tiene la sintáxis siguiente en python:\n",
    "```\n",
    "if expression:\n",
    "    statement\n",
    "elif expression:  // 0 o more elif clauses\n",
    "    statement\n",
    "else:\n",
    "    statemet\n",
    "```"
   ]
  },
  {
   "cell_type": "code",
   "execution_count": null,
   "metadata": {},
   "outputs": [],
   "source": [
    "a = 8\n",
    "if a < 10:\n",
    "    print ('a es menor a 10')\n",
    "else:\n",
    "    print ('a no es menor a 10')"
   ]
  },
  {
   "cell_type": "code",
   "execution_count": null,
   "metadata": {},
   "outputs": [],
   "source": [
    "a = 10\n",
    "if a < 10:\n",
    "    print ('a es menor a 10')\n",
    "else:\n",
    "    if a == 10: \n",
    "        print ('a es igual a 10')\n",
    "    else:\n",
    "        print('a es mayor que 10')"
   ]
  },
  {
   "cell_type": "code",
   "execution_count": null,
   "metadata": {},
   "outputs": [],
   "source": [
    "# clasic example\n",
    "if a < 10:\n",
    "    print ('a es menor a 10')\n",
    "elif a == 10:\n",
    "    print ('a es igual a 10')\n",
    "else:\n",
    "    print('a es mayor que 10')"
   ]
  },
  {
   "cell_type": "markdown",
   "metadata": {},
   "source": [
    "El resultado de ciertas expresiones lógicas puede evitar el uso del `if-else`. "
   ]
  },
  {
   "cell_type": "code",
   "execution_count": null,
   "metadata": {},
   "outputs": [],
   "source": [
    "# evalua par\n",
    "if num % 2 == 0:\n",
    "    print(True)\n",
    "else:\n",
    "    print(False)"
   ]
  },
  {
   "cell_type": "code",
   "execution_count": null,
   "metadata": {},
   "outputs": [],
   "source": [
    "num = 10\n",
    "num % 2 == 0"
   ]
  },
  {
   "cell_type": "code",
   "execution_count": null,
   "metadata": {},
   "outputs": [],
   "source": [
    "def es_par(num):\n",
    "    '''(int) -> bool\n",
    "    \n",
    "    Devuelve si num es par.\n",
    "    \n",
    "    >>> es_par(4)\n",
    "    True\n",
    "    >>> es_par(77)\n",
    "    False\n",
    "    '''\n",
    "    \n",
    "    return num % 2 == 0"
   ]
  },
  {
   "cell_type": "code",
   "execution_count": null,
   "metadata": {},
   "outputs": [],
   "source": [
    "es_par(10)"
   ]
  },
  {
   "cell_type": "markdown",
   "metadata": {},
   "source": [
    "### Ciclo While"
   ]
  },
  {
   "cell_type": "markdown",
   "metadata": {},
   "source": [
    "La sentencia `while` repite un conjunto de instrucciones mientras que cierta condición sea verdadera.\n",
    "while tiene la sintaxis siguiente:\n",
    "\n",
    "```python\n",
    "while expression:\n",
    "    statements\n",
    "```"
   ]
  },
  {
   "cell_type": "code",
   "execution_count": null,
   "metadata": {},
   "outputs": [],
   "source": [
    "# while num 2\n",
    "num = 2\n",
    "while num < 100:\n",
    "    num = num * 2\n",
    "    print(num)"
   ]
  },
  {
   "cell_type": "code",
   "execution_count": null,
   "metadata": {},
   "outputs": [],
   "source": [
    "# while num 10\n",
    "num = 10\n",
    "while num < 100:\n",
    "    num = num * 2\n",
    "    print(num)"
   ]
  },
  {
   "cell_type": "code",
   "execution_count": null,
   "metadata": {},
   "outputs": [],
   "source": [
    "s = 'Hola'\n",
    "i = 0\n",
    "while not(s[i] in 'aeiouAEIOU'):\n",
    "    print(s[i])\n",
    "    i = i + 1"
   ]
  },
  {
   "cell_type": "code",
   "execution_count": null,
   "metadata": {},
   "outputs": [],
   "source": [
    "# fuera de indice\n",
    "s = 'xyz'\n",
    "i = 0\n",
    "while not(s[i] in 'aeiouAEIOU'):\n",
    "    print(s[i])\n",
    "    i = i + 1"
   ]
  },
  {
   "cell_type": "markdown",
   "metadata": {},
   "source": [
    "Si se hace referencia a un índice fuera del número de caracteres de una cadena el intérprete de python envía un error `IndexError`."
   ]
  },
  {
   "cell_type": "code",
   "execution_count": null,
   "metadata": {},
   "outputs": [],
   "source": [
    "i = 0\n",
    "s = 'xyz'\n",
    "while i < len(s) and not (s[i] in 'aeiouAEIOU'):\n",
    "    print (s[i])\n",
    "    i = i+1"
   ]
  },
  {
   "cell_type": "code",
   "execution_count": null,
   "metadata": {},
   "outputs": [],
   "source": [
    "def hasta_vocal(s):\n",
    "    ''' (str) -> str\n",
    "    \n",
    "    Regresa una subcadena de s desde el indice 0\n",
    "    hasta la primera vocal en s sin incluirla.\n",
    "    \n",
    "    >>> hasta_vocal('hola')\n",
    "    'h'\n",
    "    >>> hasta_vocal('trucha')\n",
    "    'tr'\n",
    "    >>> hasta_vocal('cs')\n",
    "    'cs'\n",
    "    '''\n",
    "    \n",
    "    # antes_vocal contiene todos los caracteres\n",
    "    # encontrados antes de la primera vocal\n",
    "  \n",
    "    antes_vocal = ''\n",
    "    \n",
    "    i = 0\n",
    "    \n",
    "    # Acumula los caracteres no vocales desde el incio de la cadena\n",
    "    while i < len(s) and not(s[i] in 'aeiouAEIOU'):\n",
    "        antes_vocal = antes_vocal + s[i]\n",
    "        i = i + 1\n",
    "    \n",
    "    return antes_vocal"
   ]
  },
  {
   "cell_type": "code",
   "execution_count": null,
   "metadata": {},
   "outputs": [],
   "source": [
    "hasta_vocal('Hola')"
   ]
  },
  {
   "cell_type": "code",
   "execution_count": null,
   "metadata": {},
   "outputs": [],
   "source": [
    "hasta_vocal('trucha')"
   ]
  },
  {
   "cell_type": "code",
   "execution_count": null,
   "metadata": {},
   "outputs": [],
   "source": [
    "hasta_vocal('cs')"
   ]
  },
  {
   "cell_type": "markdown",
   "metadata": {},
   "source": [
    "### Ciclo For"
   ]
  },
  {
   "cell_type": "markdown",
   "metadata": {},
   "source": [
    "La sentencia `for` repite un conjunto de instrucciones o sentencias. La repetición está determinada por la los elementos de un objeto iterable.\n",
    "Por ejemplo, se puede iterar sobre una cadena:\n",
    "\n",
    "``` python\n",
    "for variable in cadena:\n",
    "    body\n",
    "```"
   ]
  },
  {
   "cell_type": "code",
   "execution_count": null,
   "metadata": {},
   "outputs": [],
   "source": [
    "cadena = \"Programando en python\""
   ]
  },
  {
   "cell_type": "code",
   "execution_count": null,
   "metadata": {},
   "outputs": [],
   "source": [
    "for val in cadena:\n",
    "    print(val)"
   ]
  },
  {
   "cell_type": "code",
   "execution_count": null,
   "metadata": {},
   "outputs": [],
   "source": [
    "# clase range\n",
    "range(10)"
   ]
  },
  {
   "cell_type": "code",
   "execution_count": null,
   "metadata": {},
   "outputs": [],
   "source": [
    "help(range)"
   ]
  },
  {
   "cell_type": "code",
   "execution_count": 41,
   "metadata": {},
   "outputs": [
    {
     "name": "stdout",
     "output_type": "stream",
     "text": [
      "0\n",
      "1\n",
      "2\n",
      "3\n",
      "4\n",
      "5\n",
      "6\n",
      "7\n",
      "8\n",
      "9\n"
     ]
    }
   ],
   "source": [
    "# itera sobre rango\n",
    "for i in range(10):\n",
    "    print(i)"
   ]
  },
  {
   "cell_type": "code",
   "execution_count": 57,
   "metadata": {},
   "outputs": [],
   "source": [
    "# objeto lista\n",
    "colores = ['rojo', 'azul', 'amarillo', 'negro', 'verde']"
   ]
  },
  {
   "cell_type": "code",
   "execution_count": 56,
   "metadata": {},
   "outputs": [
    {
     "name": "stdout",
     "output_type": "stream",
     "text": [
      "azul\n",
      "rojo\n",
      "amarillo\n",
      "verde\n"
     ]
    }
   ],
   "source": [
    "# itera sobre lista\n",
    "for i in a:\n",
    "    print(i)"
   ]
  },
  {
   "cell_type": "code",
   "execution_count": 52,
   "metadata": {},
   "outputs": [],
   "source": [
    "def cuenta_vocales(s):\n",
    "    ''' (str) -> int\n",
    "    \n",
    "    Regresa el número de vocales en .\n",
    "    \n",
    "    >>> cuenta_vocales('Universidad Nacional')\n",
    "    5\n",
    "    >>> cuenta_vocales('xyz')\n",
    "    0\n",
    "    '''\n",
    "    \n",
    "    num_vocales = 0\n",
    "    for item in s:\n",
    "        if item in 'aeiouAEIOU':\n",
    "            num_vocales = num_vocales + 1\n",
    "    \n",
    "    return num_vocales"
   ]
  },
  {
   "cell_type": "code",
   "execution_count": 53,
   "metadata": {},
   "outputs": [
    {
     "data": {
      "text/plain": [
       "9"
      ]
     },
     "execution_count": 53,
     "metadata": {},
     "output_type": "execute_result"
    }
   ],
   "source": [
    "cuenta_vocales('Universidad Nacional')"
   ]
  },
  {
   "cell_type": "code",
   "execution_count": 55,
   "metadata": {},
   "outputs": [
    {
     "data": {
      "text/plain": [
       "0"
      ]
     },
     "execution_count": 55,
     "metadata": {},
     "output_type": "execute_result"
    }
   ],
   "source": [
    "cuenta_vocales('xyz')"
   ]
  },
  {
   "cell_type": "markdown",
   "metadata": {},
   "source": [
    "**Ejercicio:** Desarrolla una función que devuelva las vocales contenidas en una cadena proporcionada."
   ]
  },
  {
   "cell_type": "code",
   "execution_count": 5,
   "metadata": {},
   "outputs": [],
   "source": [
    "def colecciona_vocales(s):\n",
    "    ''' (str) -> str\n",
    "    \n",
    "    Regresa las vocales dentro de s.\n",
    "    \n",
    "    >>> colecciona_vocales('Happy Anniversary!')\n",
    "    aAiea\n",
    "    >>> colecciona_vocales('xyz')\n",
    "    0\n",
    "    '''\n",
    "    vowels = ''\n",
    "    for char in s:\n",
    "        if char in 'aeiouAEIOU':\n",
    "            vowels = vowels + char\n",
    "    \n",
    "    return vowels"
   ]
  },
  {
   "cell_type": "code",
   "execution_count": null,
   "metadata": {},
   "outputs": [],
   "source": [
    "colect_vowels('Happy Anniversary!')"
   ]
  },
  {
   "cell_type": "code",
   "execution_count": null,
   "metadata": {},
   "outputs": [],
   "source": [
    "colect_vowels('xyz')"
   ]
  },
  {
   "cell_type": "code",
   "execution_count": null,
   "metadata": {},
   "outputs": [],
   "source": []
  }
 ],
 "metadata": {
  "kernelspec": {
   "display_name": "Python 3",
   "language": "python",
   "name": "python3"
  },
  "language_info": {
   "codemirror_mode": {
    "name": "ipython",
    "version": 3
   },
   "file_extension": ".py",
   "mimetype": "text/x-python",
   "name": "python",
   "nbconvert_exporter": "python",
   "pygments_lexer": "ipython3",
   "version": "3.6.5"
  }
 },
 "nbformat": 4,
 "nbformat_minor": 2
}
